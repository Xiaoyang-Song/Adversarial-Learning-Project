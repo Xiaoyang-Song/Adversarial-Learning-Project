{
 "cells": [
  {
   "cell_type": "code",
   "execution_count": 1,
   "metadata": {},
   "outputs": [],
   "source": [
    "%load_ext autoreload\n",
    "%autoreload 2"
   ]
  },
  {
   "cell_type": "code",
   "execution_count": 6,
   "metadata": {},
   "outputs": [],
   "source": [
    "import sys\n",
    "import os\n",
    "from icecream import ic\n",
    "sys.path.append(\"../\")\n",
    "from rbsimclr_trainer import *"
   ]
  },
  {
   "cell_type": "code",
   "execution_count": 10,
   "metadata": {},
   "outputs": [
    {
     "name": "stdout",
     "output_type": "stream",
     "text": [
      "cpu\n",
      "Files already downloaded and verified\n",
      "Files already downloaded and verified\n"
     ]
    },
    {
     "name": "stderr",
     "output_type": "stream",
     "text": [
      "ic| f\"Checkpoint {current_epoch} saved!\": 'Checkpoint 0 saved!'\n"
     ]
    },
    {
     "name": "stdout",
     "output_type": "stream",
     "text": [
      "Adjusting learning rate of group 0 to 1.0000e-04.\n",
      "Epoch 00000: adjusting learning rate of group 0 to 1.0000e-03.\n",
      "Device: cpu\n"
     ]
    },
    {
     "ename": "FileNotFoundError",
     "evalue": "[Errno 2] No such file or directory: './checkpoint/RBSimCLR_epoch_0_checkpoint.pt'",
     "output_type": "error",
     "traceback": [
      "\u001b[0;31m---------------------------------------------------------------------------\u001b[0m",
      "\u001b[0;31mFileNotFoundError\u001b[0m                         Traceback (most recent call last)",
      "\u001b[1;32m/Users/xiaoyangsong/Desktop/Representation Learning/Robust-SimCLR-via-Adversarial-Meta-Learning/trainer/train.ipynb Cell 3'\u001b[0m in \u001b[0;36m<module>\u001b[0;34m\u001b[0m\n\u001b[1;32m     <a href='vscode-notebook-cell:/Users/xiaoyangsong/Desktop/Representation%20Learning/Robust-SimCLR-via-Adversarial-Meta-Learning/trainer/train.ipynb#ch0000002?line=41'>42</a>\u001b[0m writer \u001b[39m=\u001b[39m SummaryWriter(\u001b[39m\"\u001b[39m\u001b[39mRBSimCLR\u001b[39m\u001b[39m\"\u001b[39m)\n\u001b[1;32m     <a href='vscode-notebook-cell:/Users/xiaoyangsong/Desktop/Representation%20Learning/Robust-SimCLR-via-Adversarial-Meta-Learning/trainer/train.ipynb#ch0000002?line=43'>44</a>\u001b[0m \u001b[39m# Train\u001b[39;00m\n\u001b[0;32m---> <a href='vscode-notebook-cell:/Users/xiaoyangsong/Desktop/Representation%20Learning/Robust-SimCLR-via-Adversarial-Meta-Learning/trainer/train.ipynb#ch0000002?line=44'>45</a>\u001b[0m RBSimCLR_trainer(model, train_loader, val_loader,\n\u001b[1;32m     <a href='vscode-notebook-cell:/Users/xiaoyangsong/Desktop/Representation%20Learning/Robust-SimCLR-via-Adversarial-Meta-Learning/trainer/train.ipynb#ch0000002?line=45'>46</a>\u001b[0m                     optimizer, scheduler, criterion, writer, logger, bsz_tri, bsz_val)\n",
      "File \u001b[0;32m~/Desktop/Representation Learning/Robust-SimCLR-via-Adversarial-Meta-Learning/trainer/rbsimclr_trainer.py:40\u001b[0m, in \u001b[0;36mRBSimCLR_trainer\u001b[0;34m(model, train_loader, val_loader, optimizer, scheduler, criterion, writer, logger, train_batch_size, test_batch_size, max_epoch, n_steps_show, n_epoch_checkpoint, device)\u001b[0m\n\u001b[1;32m     <a href='file:///Users/xiaoyangsong/Desktop/Representation%20Learning/Robust-SimCLR-via-Adversarial-Meta-Learning/trainer/rbsimclr_trainer.py?line=37'>38</a>\u001b[0m tri_criterion \u001b[39m=\u001b[39m criterion[\u001b[39m'\u001b[39m\u001b[39mtri_criterion\u001b[39m\u001b[39m'\u001b[39m]\n\u001b[1;32m     <a href='file:///Users/xiaoyangsong/Desktop/Representation%20Learning/Robust-SimCLR-via-Adversarial-Meta-Learning/trainer/rbsimclr_trainer.py?line=38'>39</a>\u001b[0m val_criterion \u001b[39m=\u001b[39m criterion[\u001b[39m'\u001b[39m\u001b[39mval_criterion\u001b[39m\u001b[39m'\u001b[39m]\n\u001b[0;32m---> <a href='file:///Users/xiaoyangsong/Desktop/Representation%20Learning/Robust-SimCLR-via-Adversarial-Meta-Learning/trainer/rbsimclr_trainer.py?line=39'>40</a>\u001b[0m checkpoint(model, [train_batch_size, test_batch_size], optimizer, mainscheduler, \u001b[39m0\u001b[39;49m,\n\u001b[1;32m     <a href='file:///Users/xiaoyangsong/Desktop/Representation%20Learning/Robust-SimCLR-via-Adversarial-Meta-Learning/trainer/rbsimclr_trainer.py?line=40'>41</a>\u001b[0m            logger, \u001b[39m\"\u001b[39;49m\u001b[39mRBSimCLR_epoch_\u001b[39;49m\u001b[39m{}\u001b[39;49;00m\u001b[39m_checkpoint.pt\u001b[39;49m\u001b[39m\"\u001b[39;49m)\n\u001b[1;32m     <a href='file:///Users/xiaoyangsong/Desktop/Representation%20Learning/Robust-SimCLR-via-Adversarial-Meta-Learning/trainer/rbsimclr_trainer.py?line=42'>43</a>\u001b[0m \u001b[39m# Basic stats\u001b[39;00m\n\u001b[1;32m     <a href='file:///Users/xiaoyangsong/Desktop/Representation%20Learning/Robust-SimCLR-via-Adversarial-Meta-Learning/trainer/rbsimclr_trainer.py?line=43'>44</a>\u001b[0m current_epoch \u001b[39m=\u001b[39m \u001b[39m0\u001b[39m\n",
      "File \u001b[0;32m~/Desktop/Representation Learning/Robust-SimCLR-via-Adversarial-Meta-Learning/trainer/../utils.py:18\u001b[0m, in \u001b[0;36mcheckpoint\u001b[0;34m(model, bsz, optimizer, scheduler, current_epoch, logger, filename)\u001b[0m\n\u001b[1;32m     <a href='file:///Users/xiaoyangsong/Desktop/Representation%20Learning/Robust-SimCLR-via-Adversarial-Meta-Learning/trainer/../utils.py?line=15'>16</a>\u001b[0m out \u001b[39m=\u001b[39m os\u001b[39m.\u001b[39mpath\u001b[39m.\u001b[39mjoin(\u001b[39m'\u001b[39m\u001b[39m./checkpoint/\u001b[39m\u001b[39m'\u001b[39m, filename\u001b[39m.\u001b[39mformat(current_epoch))\n\u001b[1;32m     <a href='file:///Users/xiaoyangsong/Desktop/Representation%20Learning/Robust-SimCLR-via-Adversarial-Meta-Learning/trainer/../utils.py?line=16'>17</a>\u001b[0m ic(\u001b[39mf\u001b[39m\u001b[39m\"\u001b[39m\u001b[39mCheckpoint \u001b[39m\u001b[39m{\u001b[39;00mcurrent_epoch\u001b[39m}\u001b[39;00m\u001b[39m saved!\u001b[39m\u001b[39m\"\u001b[39m)\n\u001b[0;32m---> <a href='file:///Users/xiaoyangsong/Desktop/Representation%20Learning/Robust-SimCLR-via-Adversarial-Meta-Learning/trainer/../utils.py?line=17'>18</a>\u001b[0m torch\u001b[39m.\u001b[39;49msave({\u001b[39m'\u001b[39;49m\u001b[39mbsz\u001b[39;49m\u001b[39m'\u001b[39;49m: bsz,\n\u001b[1;32m     <a href='file:///Users/xiaoyangsong/Desktop/Representation%20Learning/Robust-SimCLR-via-Adversarial-Meta-Learning/trainer/../utils.py?line=18'>19</a>\u001b[0m             \u001b[39m'\u001b[39;49m\u001b[39mmodel_state_dict\u001b[39;49m\u001b[39m'\u001b[39;49m: model\u001b[39m.\u001b[39;49mstate_dict(),\n\u001b[1;32m     <a href='file:///Users/xiaoyangsong/Desktop/Representation%20Learning/Robust-SimCLR-via-Adversarial-Meta-Learning/trainer/../utils.py?line=19'>20</a>\u001b[0m             \u001b[39m'\u001b[39;49m\u001b[39moptimizer_state_dict\u001b[39;49m\u001b[39m'\u001b[39;49m: optimizer\u001b[39m.\u001b[39;49mstate_dict(),\n\u001b[1;32m     <a href='file:///Users/xiaoyangsong/Desktop/Representation%20Learning/Robust-SimCLR-via-Adversarial-Meta-Learning/trainer/../utils.py?line=20'>21</a>\u001b[0m             \u001b[39m'\u001b[39;49m\u001b[39mscheduler_state_dict\u001b[39;49m\u001b[39m'\u001b[39;49m: scheduler\u001b[39m.\u001b[39;49mstate_dict(),\n\u001b[1;32m     <a href='file:///Users/xiaoyangsong/Desktop/Representation%20Learning/Robust-SimCLR-via-Adversarial-Meta-Learning/trainer/../utils.py?line=21'>22</a>\u001b[0m             \u001b[39m'\u001b[39;49m\u001b[39mlogger\u001b[39;49m\u001b[39m'\u001b[39;49m: logger\n\u001b[1;32m     <a href='file:///Users/xiaoyangsong/Desktop/Representation%20Learning/Robust-SimCLR-via-Adversarial-Meta-Learning/trainer/../utils.py?line=22'>23</a>\u001b[0m             }, out)\n",
      "File \u001b[0;32m/Library/Frameworks/Python.framework/Versions/3.9/lib/python3.9/site-packages/torch/serialization.py:376\u001b[0m, in \u001b[0;36msave\u001b[0;34m(obj, f, pickle_module, pickle_protocol, _use_new_zipfile_serialization)\u001b[0m\n\u001b[1;32m    <a href='file:///Library/Frameworks/Python.framework/Versions/3.9/lib/python3.9/site-packages/torch/serialization.py?line=339'>340</a>\u001b[0m \u001b[39m\"\"\"save(obj, f, pickle_module=pickle, pickle_protocol=DEFAULT_PROTOCOL, _use_new_zipfile_serialization=True)\u001b[39;00m\n\u001b[1;32m    <a href='file:///Library/Frameworks/Python.framework/Versions/3.9/lib/python3.9/site-packages/torch/serialization.py?line=340'>341</a>\u001b[0m \n\u001b[1;32m    <a href='file:///Library/Frameworks/Python.framework/Versions/3.9/lib/python3.9/site-packages/torch/serialization.py?line=341'>342</a>\u001b[0m \u001b[39mSaves an object to a disk file.\u001b[39;00m\n\u001b[0;32m   (...)\u001b[0m\n\u001b[1;32m    <a href='file:///Library/Frameworks/Python.framework/Versions/3.9/lib/python3.9/site-packages/torch/serialization.py?line=371'>372</a>\u001b[0m \u001b[39m    >>> torch.save(x, buffer)\u001b[39;00m\n\u001b[1;32m    <a href='file:///Library/Frameworks/Python.framework/Versions/3.9/lib/python3.9/site-packages/torch/serialization.py?line=372'>373</a>\u001b[0m \u001b[39m\"\"\"\u001b[39;00m\n\u001b[1;32m    <a href='file:///Library/Frameworks/Python.framework/Versions/3.9/lib/python3.9/site-packages/torch/serialization.py?line=373'>374</a>\u001b[0m _check_dill_version(pickle_module)\n\u001b[0;32m--> <a href='file:///Library/Frameworks/Python.framework/Versions/3.9/lib/python3.9/site-packages/torch/serialization.py?line=375'>376</a>\u001b[0m \u001b[39mwith\u001b[39;00m _open_file_like(f, \u001b[39m'\u001b[39;49m\u001b[39mwb\u001b[39;49m\u001b[39m'\u001b[39;49m) \u001b[39mas\u001b[39;00m opened_file:\n\u001b[1;32m    <a href='file:///Library/Frameworks/Python.framework/Versions/3.9/lib/python3.9/site-packages/torch/serialization.py?line=376'>377</a>\u001b[0m     \u001b[39mif\u001b[39;00m _use_new_zipfile_serialization:\n\u001b[1;32m    <a href='file:///Library/Frameworks/Python.framework/Versions/3.9/lib/python3.9/site-packages/torch/serialization.py?line=377'>378</a>\u001b[0m         \u001b[39mwith\u001b[39;00m _open_zipfile_writer(opened_file) \u001b[39mas\u001b[39;00m opened_zipfile:\n",
      "File \u001b[0;32m/Library/Frameworks/Python.framework/Versions/3.9/lib/python3.9/site-packages/torch/serialization.py:230\u001b[0m, in \u001b[0;36m_open_file_like\u001b[0;34m(name_or_buffer, mode)\u001b[0m\n\u001b[1;32m    <a href='file:///Library/Frameworks/Python.framework/Versions/3.9/lib/python3.9/site-packages/torch/serialization.py?line=227'>228</a>\u001b[0m \u001b[39mdef\u001b[39;00m \u001b[39m_open_file_like\u001b[39m(name_or_buffer, mode):\n\u001b[1;32m    <a href='file:///Library/Frameworks/Python.framework/Versions/3.9/lib/python3.9/site-packages/torch/serialization.py?line=228'>229</a>\u001b[0m     \u001b[39mif\u001b[39;00m _is_path(name_or_buffer):\n\u001b[0;32m--> <a href='file:///Library/Frameworks/Python.framework/Versions/3.9/lib/python3.9/site-packages/torch/serialization.py?line=229'>230</a>\u001b[0m         \u001b[39mreturn\u001b[39;00m _open_file(name_or_buffer, mode)\n\u001b[1;32m    <a href='file:///Library/Frameworks/Python.framework/Versions/3.9/lib/python3.9/site-packages/torch/serialization.py?line=230'>231</a>\u001b[0m     \u001b[39melse\u001b[39;00m:\n\u001b[1;32m    <a href='file:///Library/Frameworks/Python.framework/Versions/3.9/lib/python3.9/site-packages/torch/serialization.py?line=231'>232</a>\u001b[0m         \u001b[39mif\u001b[39;00m \u001b[39m'\u001b[39m\u001b[39mw\u001b[39m\u001b[39m'\u001b[39m \u001b[39min\u001b[39;00m mode:\n",
      "File \u001b[0;32m/Library/Frameworks/Python.framework/Versions/3.9/lib/python3.9/site-packages/torch/serialization.py:211\u001b[0m, in \u001b[0;36m_open_file.__init__\u001b[0;34m(self, name, mode)\u001b[0m\n\u001b[1;32m    <a href='file:///Library/Frameworks/Python.framework/Versions/3.9/lib/python3.9/site-packages/torch/serialization.py?line=209'>210</a>\u001b[0m \u001b[39mdef\u001b[39;00m \u001b[39m__init__\u001b[39m(\u001b[39mself\u001b[39m, name, mode):\n\u001b[0;32m--> <a href='file:///Library/Frameworks/Python.framework/Versions/3.9/lib/python3.9/site-packages/torch/serialization.py?line=210'>211</a>\u001b[0m     \u001b[39msuper\u001b[39m(_open_file, \u001b[39mself\u001b[39m)\u001b[39m.\u001b[39m\u001b[39m__init__\u001b[39m(\u001b[39mopen\u001b[39;49m(name, mode))\n",
      "\u001b[0;31mFileNotFoundError\u001b[0m: [Errno 2] No such file or directory: './checkpoint/RBSimCLR_epoch_0_checkpoint.pt'"
     ]
    }
   ],
   "source": [
    "# Get dataset\n",
    "dataset = ContrastiveLearningDataset(\"./datasets\")\n",
    "num_views = 2\n",
    "print(DEVICE)\n",
    "train_dataset = dataset.get_dataset('cifar10_tri', num_views)\n",
    "val_dataset = dataset.get_dataset('cifar10_val', num_views)\n",
    "# Batch size config\n",
    "bsz_tri, bsz_val = 128, 128\n",
    "train_loader = torch.utils.data.DataLoader(\n",
    "    train_dataset, batch_size=bsz_tri, shuffle=True,\n",
    "    num_workers=2, pin_memory=True, drop_last=True)\n",
    "val_loader = torch.utils.data.DataLoader(\n",
    "    train_dataset, batch_size=bsz_val, shuffle=True,\n",
    "    num_workers=2, pin_memory=True, drop_last=True)\n",
    "\n",
    "# Model and training config\n",
    "model = RBSimCLR(256).to(DEVICE)\n",
    "optimizer = torch.optim.Adam(\n",
    "    model.parameters(), lr=1e-3, betas=(0.5, 0.999))\n",
    "\n",
    "# Warmup scheduler\n",
    "warmupscheduler = torch.optim.lr_scheduler.LambdaLR(\n",
    "    optimizer, lambda epoch: (epoch+1)/10.0, verbose=True)\n",
    "# SCHEDULER FOR COSINE DECAY\n",
    "mainscheduler = torch.optim.lr_scheduler.CosineAnnealingWarmRestarts(\n",
    "    optimizer, 500, eta_min=0.05, last_epoch=-1, verbose=True)\n",
    "scheduler = {\n",
    "    'warmupscheduler': warmupscheduler,\n",
    "    'mainscheduler': mainscheduler\n",
    "}\n",
    "\n",
    "# LOSS FUNCTION\n",
    "tri_criterion = RBSimCLRLoss(batch_size=bsz_tri, temperature=0.5)\n",
    "val_criterion = RBSimCLRLoss(batch_size=bsz_val, temperature=0.5)\n",
    "criterion = {\n",
    "    'tri_criterion': tri_criterion,\n",
    "    'val_criterion': val_criterion\n",
    "}\n",
    "\n",
    "# Logger & Writer\n",
    "logger = Logger()\n",
    "writer = SummaryWriter(\"RBSimCLR\")\n",
    "\n",
    "# Train\n",
    "RBSimCLR_trainer(model, train_loader, val_loader,\n",
    "                    optimizer, scheduler, criterion, writer, logger, bsz_tri, bsz_val)\n"
   ]
  }
 ],
 "metadata": {
  "interpreter": {
   "hash": "aee8b7b246df8f9039afb4144a1f6fd8d2ca17a180786b69acc140d282b71a49"
  },
  "kernelspec": {
   "display_name": "Python 3.9.7 64-bit",
   "language": "python",
   "name": "python3"
  },
  "language_info": {
   "codemirror_mode": {
    "name": "ipython",
    "version": 3
   },
   "file_extension": ".py",
   "mimetype": "text/x-python",
   "name": "python",
   "nbconvert_exporter": "python",
   "pygments_lexer": "ipython3",
   "version": "3.9.7"
  },
  "orig_nbformat": 4
 },
 "nbformat": 4,
 "nbformat_minor": 2
}
