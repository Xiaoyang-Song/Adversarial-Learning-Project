{
 "cells": [
  {
   "cell_type": "code",
   "execution_count": 7,
   "metadata": {},
   "outputs": [
    {
     "name": "stdout",
     "output_type": "stream",
     "text": [
      "The autoreload extension is already loaded. To reload it, use:\n",
      "  %reload_ext autoreload\n"
     ]
    }
   ],
   "source": [
    "%load_ext autoreload\n",
    "%autoreload 2"
   ]
  },
  {
   "cell_type": "code",
   "execution_count": 8,
   "metadata": {},
   "outputs": [],
   "source": [
    "import sys\n",
    "import os\n",
    "from icecream import ic\n",
    "sys.path.append(\"../\")\n",
    "from rbsimclr_trainer import *\n",
    "from meta_trainer import *"
   ]
  },
  {
   "cell_type": "code",
   "execution_count": 9,
   "metadata": {},
   "outputs": [
    {
     "name": "stdout",
     "output_type": "stream",
     "text": [
      "cpu\n",
      "Files already downloaded and verified\n",
      "Files already downloaded and verified\n"
     ]
    }
   ],
   "source": [
    "# Get dataset\n",
    "dataset = ContrastiveLearningDataset(\"./datasets\")\n",
    "num_views = 2\n",
    "print(DEVICE)\n",
    "train_dataset = dataset.get_dataset('cifar10_tri', num_views)\n",
    "val_dataset = dataset.get_dataset('cifar10_val', num_views)\n",
    "# Batch size config\n",
    "bsz_tri, bsz_val = 128, 128\n",
    "train_loader = torch.utils.data.DataLoader(\n",
    "    train_dataset, batch_size=bsz_tri, shuffle=True,\n",
    "    num_workers=2, pin_memory=True, drop_last=True)\n",
    "val_loader = torch.utils.data.DataLoader(\n",
    "    train_dataset, batch_size=bsz_val, shuffle=True,\n",
    "    num_workers=2, pin_memory=True, drop_last=True)\n",
    "\n",
    "model_config = dict(\n",
    "        projection_dim=256,\n",
    "        adversarial=None,\n",
    "        n_features=None,\n",
    "        encoder=None\n",
    ")\n",
    "\n",
    "meta_config = dict(\n",
    "    alpha=1e-3,\n",
    "    beta=1e-3,\n",
    "    num_local_updates=1,\n",
    "    max_epoch=50,\n",
    "    n_epoch_checkpoint=1,\n",
    ")\n",
    "\n",
    "tri_args = dict(\n",
    "    num_atks_per_ep=10,\n",
    "    sample_bsz=128\n",
    ")"
   ]
  },
  {
   "cell_type": "code",
   "execution_count": 10,
   "metadata": {},
   "outputs": [],
   "source": [
    "metatrainer = MetaRBSimCLR(model_config, meta_config, tri_args)"
   ]
  },
  {
   "cell_type": "code",
   "execution_count": null,
   "metadata": {},
   "outputs": [],
   "source": [
    "metatrainer.train(train_dataset)"
   ]
  }
 ],
 "metadata": {
  "interpreter": {
   "hash": "aee8b7b246df8f9039afb4144a1f6fd8d2ca17a180786b69acc140d282b71a49"
  },
  "kernelspec": {
   "display_name": "Python 3.9.7 64-bit",
   "language": "python",
   "name": "python3"
  },
  "language_info": {
   "codemirror_mode": {
    "name": "ipython",
    "version": 3
   },
   "file_extension": ".py",
   "mimetype": "text/x-python",
   "name": "python",
   "nbconvert_exporter": "python",
   "pygments_lexer": "ipython3",
   "version": "3.9.7"
  },
  "orig_nbformat": 4
 },
 "nbformat": 4,
 "nbformat_minor": 2
}
